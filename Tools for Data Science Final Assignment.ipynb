{
 "cells": [
  {
   "cell_type": "markdown",
   "id": "14fa71b1",
   "metadata": {},
   "source": [
    "# My Jupyter Notebook on IBM Watson Studio"
   ]
  },
  {
   "cell_type": "markdown",
   "id": "61096bda",
   "metadata": {},
   "source": [
    "<b> Jarred Peck </b> <br>\n",
    "Data Analyst"
   ]
  },
  {
   "cell_type": "markdown",
   "id": "20052d6b",
   "metadata": {},
   "source": [
    "<em> I am interested in data science because I like looking at data and creating a story. I feel like data science makes big impact by looking at how things are and finding a solutions through the data."
   ]
  },
  {
   "cell_type": "markdown",
   "id": "66293e3c",
   "metadata": {},
   "source": [
    "### I create a variable that adds 1 plus 1 and then I print it for display"
   ]
  },
  {
   "cell_type": "code",
   "execution_count": 1,
   "id": "d3868671",
   "metadata": {},
   "outputs": [
    {
     "name": "stdout",
     "output_type": "stream",
     "text": [
      "2\n"
     ]
    }
   ],
   "source": [
    "x = 1+1\n",
    "print(x)"
   ]
  },
  {
   "cell_type": "markdown",
   "id": "c0bfbff0",
   "metadata": {},
   "source": [
    "<ul>\n",
    "    <li> Apple </li>\n",
    "    <li> Banana </li>\n",
    "    <li> Tomato </li>\n",
    "</ul>\n",
    "<ol>\n",
    "    <li> Broccoli </li>\n",
    "    <li> Squash </li>\n",
    "    <li> Spinach </li>\n",
    "</ol>\n",
    "<strike> Cookies </strike>"
   ]
  },
  {
   "cell_type": "code",
   "execution_count": null,
   "id": "b5c65099",
   "metadata": {},
   "outputs": [],
   "source": []
  }
 ],
 "metadata": {
  "kernelspec": {
   "display_name": "Python 3",
   "language": "python",
   "name": "python3"
  },
  "language_info": {
   "codemirror_mode": {
    "name": "ipython",
    "version": 3
   },
   "file_extension": ".py",
   "mimetype": "text/x-python",
   "name": "python",
   "nbconvert_exporter": "python",
   "pygments_lexer": "ipython3",
   "version": "3.8.8"
  }
 },
 "nbformat": 4,
 "nbformat_minor": 5
}
